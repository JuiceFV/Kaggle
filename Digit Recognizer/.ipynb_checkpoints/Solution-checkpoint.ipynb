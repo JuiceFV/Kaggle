{
 "cells": [
  {
   "cell_type": "markdown",
   "metadata": {},
   "source": [
    "# Module Description\n",
    "\n",
    "MNIST (\"Modified National Institute of Standards and Technology\") is the de facto “hello world” dataset of computer vision. Since its release in 1999, this classic dataset of handwritten images has served as the basis for benchmarking classification algorithms. As new machine learning techniques emerge, MNIST remains a reliable resource for researchers and learners alike.\n",
    "\n",
    "In this competition, your goal is to correctly identify digits from a dataset of tens of thousands of handwritten images. We’ve curated a set of tutorial-style kernels which cover everything from regression to neural networks. We encourage you to experiment with different algorithms to learn first-hand what works well and how techniques compare.\n",
    "\n",
    "More details about the dataset, including algorithms that have been tried on it and their levels of success, can be found at http://yann.lecun.com/exdb/mnist/index.html. The dataset is made available under a [Creative Commons Attribution-Share Alike 3.0](https://creativecommons.org/licenses/by-sa/3.0/) license."
   ]
  },
  {
   "cell_type": "markdown",
   "metadata": {},
   "source": [
    "## Table of Contents\n",
    "- [Module Description](#Module-Description)\n",
    "    - [Packages' Installation](#Packages'-Installation)\n",
    "    - [Const Variables Declaraion](#Const-Variables-Declaraion)\n",
    "    - [Global Functions Declaration](#Global-Functions-Declaration)\n",
    "    - [Data Upload](#Data-Upload)\n",
    "    - [Data Evaluation](#Data-Evaluation)\n",
    "        - [First look](#First-look)\n",
    "        - [Nan Values](#Nan-Values)"
   ]
  },
  {
   "cell_type": "markdown",
   "metadata": {},
   "source": [
    "## Packages' Installation\n",
    "\n",
    "* **[ggplot2](https://ggplot2.tidyverse.org/)** - the package for the data portroyal\n",
    "* **[repr](https://cran.r-project.org/web/packages/repr/index.html)** - specify an object and a format to represent it in."
   ]
  },
  {
   "cell_type": "code",
   "execution_count": 39,
   "metadata": {},
   "outputs": [],
   "source": [
    "library(ggplot2)\n",
    "library(repr)\n",
    "library(scales)\n",
    "library(caret)\n",
    "library(nnet)"
   ]
  },
  {
   "cell_type": "markdown",
   "metadata": {},
   "source": [
    "## Const Variables Declaraion\n",
    "\n",
    "- **theme_settings** - define the settings for figure\n",
    "\n",
    "- **ubyte_data** - The data from the [MNIST database](http://yann.lecun.com/exdb/mnist/index.html) differs from the Kaggle's data. Thus I've implemented two options of data reading. Apparently, I was using `csv` reading, however if you'd like so, you may load the `ubyte` by setting `ubyte_data` as `TRUE`.\n",
    "\n",
    "- **label_index** - MNIST labels store in the distinct files, therefore I add them up as a unique field (column) to the appropriate dataset. Though the Kaggl's data contains the label as the first element. I do change this variable depends on which dataset I use."
   ]
  },
  {
   "cell_type": "code",
   "execution_count": 13,
   "metadata": {},
   "outputs": [],
   "source": [
    "theme_settings <- theme(axis.text=element_text(size=14),\n",
    "        axis.title=element_text(size=16),\n",
    "        legend.title=element_text(size=16),\n",
    "        legend.text=element_text(size=16))\n",
    "\n",
    "ubyte_data <- FALSE\n",
    "\n",
    "label_index <- 1"
   ]
  },
  {
   "cell_type": "markdown",
   "metadata": {},
   "source": [
    "## Global Functions Declaration"
   ]
  },
  {
   "cell_type": "code",
   "execution_count": 14,
   "metadata": {},
   "outputs": [],
   "source": [
    "if (ubyte_data){\n",
    "    # load image files\n",
    "    load_image_file <- function(filename) {\n",
    "      ret = list()\n",
    "      f = file(filename, 'rb')\n",
    "      readBin(f, 'integer', n = 1, size = 4, endian = 'big')\n",
    "      n    = readBin(f, 'integer', n = 1, size = 4, endian = 'big')\n",
    "      nrow = readBin(f, 'integer', n = 1, size = 4, endian = 'big')\n",
    "      ncol = readBin(f, 'integer', n = 1, size = 4, endian = 'big')\n",
    "      x = readBin(f, 'integer', n = n * nrow * ncol, size = 1, signed = FALSE)\n",
    "      close(f)\n",
    "      data.frame(matrix(x, ncol = nrow * ncol, byrow = TRUE))\n",
    "    }\n",
    "\n",
    "    # load label files\n",
    "    load_label_file <- function(filename) {\n",
    "      f = file(filename, 'rb')\n",
    "      readBin(f, 'integer', n = 1, size = 4, endian = 'big')\n",
    "      n = readBin(f, 'integer', n = 1, size = 4, endian = 'big')\n",
    "      y = readBin(f, 'integer', n = n, size = 1, signed = FALSE)\n",
    "      close(f)\n",
    "      y\n",
    "    }\n",
    "    \n",
    "    label_index <- 785\n",
    "}\n",
    "\n",
    "# helper function for visualization\n",
    "show_digit = function(arr784, col = gray(12:1 / 12), ...) {\n",
    "  image(matrix(as.matrix(arr784[-label_index]), nrow = 28)[, 28:1], col = col, ...)\n",
    "}"
   ]
  },
  {
   "cell_type": "markdown",
   "metadata": {},
   "source": [
    "## Data Upload\n",
    "\n",
    "The data files train.csv and test.csv contain gray-scale images of hand-drawn digits, from zero through nine.\n",
    "\n",
    "Each image is 28 pixels in height and 28 pixels in width, for a total of 784 pixels in total. Each pixel has a single pixel-value associated with it, indicating the lightness or darkness of that pixel, with higher numbers meaning darker. This pixel-value is an integer between 0 and 255, inclusive.\n",
    "\n",
    "The training data set, (train.csv), has 785 columns. The first column, called \"label\", is the digit that was drawn by the user. The rest of the columns contain the pixel-values of the associated image.\n",
    "\n",
    "Each pixel column in the training set has a name like pixelx, where x is an integer between 0 and 783, inclusive. To locate this pixel on the image, suppose that we have decomposed x as x = i * 28 + j, where i and j are integers between 0 and 27, inclusive. Then pixelx is located on row i and column j of a 28 x 28 matrix, (indexing by zero).\n",
    "\n",
    "For example, pixel31 indicates the pixel that is in the fourth column from the left, and the second row from the top, as in the ascii-diagram below.\n",
    "\n",
    "Visually, if we omit the \"pixel\" prefix, the pixels make up the image like this:\n",
    "\n",
    "```\n",
    "000 001 002 003 ... 026 027\n",
    "028 029 030 031 ... 054 055\n",
    "056 057 058 059 ... 082 083\n",
    " |   |   |   |  ...  |   |\n",
    "728 729 730 731 ... 754 755\n",
    "756 757 758 759 ... 782 783 \n",
    "```\n",
    "\n",
    "The test data set, (test.csv), is the same as the training set, except that it does not contain the \"label\" column.\n",
    "\n",
    "Your submission file should be in the following format: For each of the 28000 images in the test set, output a single line containing the ImageId and the digit you predict. For example, if you predict that the first image is of a 3, the second image is of a 7, and the third image is of a 8, then your submission file would look like:\n",
    "\n",
    "```\n",
    "ImageId,Label\n",
    "1,3\n",
    "2,7\n",
    "3,8 \n",
    "(27997 more lines)\n",
    "```\n",
    "\n",
    "The evaluation metric for this contest is the categorization accuracy, or the proportion of test images that are correctly classified. For example, a categorization accuracy of 0.97 indicates that you have correctly classified all but 3% of the images."
   ]
  },
  {
   "cell_type": "code",
   "execution_count": 15,
   "metadata": {},
   "outputs": [],
   "source": [
    "if (ubyte_data) {\n",
    "    # load images\n",
    "    train <- load_image_file(\"data/train-images.idx3-ubyte\")\n",
    "    train$label = as.factor(load_label_file(\"data/train-labels.idx1-ubyte\"))\n",
    "\n",
    "    # load labels\n",
    "    test  <- load_image_file(\"data/t10k-images.idx3-ubyte\")\n",
    "    test$label  = as.factor(load_label_file(\"data/t10k-labels.idx1-ubyte\"))\n",
    "} else {\n",
    "    train <- read.csv('data/train.csv')\n",
    "    test <- read.csv('data/test.csv')\n",
    "}"
   ]
  },
  {
   "cell_type": "markdown",
   "metadata": {},
   "source": [
    "The data looks like:"
   ]
  },
  {
   "cell_type": "code",
   "execution_count": 16,
   "metadata": {},
   "outputs": [
    {
     "data": {
      "text/html": [
       "<table>\n",
       "<thead><tr><th scope=col>label</th><th scope=col>pixel0</th><th scope=col>pixel1</th><th scope=col>pixel2</th><th scope=col>pixel3</th><th scope=col>pixel4</th><th scope=col>pixel5</th><th scope=col>pixel6</th><th scope=col>pixel7</th><th scope=col>pixel8</th><th scope=col>...</th><th scope=col>pixel774</th><th scope=col>pixel775</th><th scope=col>pixel776</th><th scope=col>pixel777</th><th scope=col>pixel778</th><th scope=col>pixel779</th><th scope=col>pixel780</th><th scope=col>pixel781</th><th scope=col>pixel782</th><th scope=col>pixel783</th></tr></thead>\n",
       "<tbody>\n",
       "\t<tr><td>1  </td><td>0  </td><td>0  </td><td>0  </td><td>0  </td><td>0  </td><td>0  </td><td>0  </td><td>0  </td><td>0  </td><td>...</td><td>0  </td><td>0  </td><td>0  </td><td>0  </td><td>0  </td><td>0  </td><td>0  </td><td>0  </td><td>0  </td><td>0  </td></tr>\n",
       "\t<tr><td>0  </td><td>0  </td><td>0  </td><td>0  </td><td>0  </td><td>0  </td><td>0  </td><td>0  </td><td>0  </td><td>0  </td><td>...</td><td>0  </td><td>0  </td><td>0  </td><td>0  </td><td>0  </td><td>0  </td><td>0  </td><td>0  </td><td>0  </td><td>0  </td></tr>\n",
       "\t<tr><td>1  </td><td>0  </td><td>0  </td><td>0  </td><td>0  </td><td>0  </td><td>0  </td><td>0  </td><td>0  </td><td>0  </td><td>...</td><td>0  </td><td>0  </td><td>0  </td><td>0  </td><td>0  </td><td>0  </td><td>0  </td><td>0  </td><td>0  </td><td>0  </td></tr>\n",
       "\t<tr><td>4  </td><td>0  </td><td>0  </td><td>0  </td><td>0  </td><td>0  </td><td>0  </td><td>0  </td><td>0  </td><td>0  </td><td>...</td><td>0  </td><td>0  </td><td>0  </td><td>0  </td><td>0  </td><td>0  </td><td>0  </td><td>0  </td><td>0  </td><td>0  </td></tr>\n",
       "\t<tr><td>0  </td><td>0  </td><td>0  </td><td>0  </td><td>0  </td><td>0  </td><td>0  </td><td>0  </td><td>0  </td><td>0  </td><td>...</td><td>0  </td><td>0  </td><td>0  </td><td>0  </td><td>0  </td><td>0  </td><td>0  </td><td>0  </td><td>0  </td><td>0  </td></tr>\n",
       "\t<tr><td>0  </td><td>0  </td><td>0  </td><td>0  </td><td>0  </td><td>0  </td><td>0  </td><td>0  </td><td>0  </td><td>0  </td><td>...</td><td>0  </td><td>0  </td><td>0  </td><td>0  </td><td>0  </td><td>0  </td><td>0  </td><td>0  </td><td>0  </td><td>0  </td></tr>\n",
       "</tbody>\n",
       "</table>\n"
      ],
      "text/latex": [
       "\\begin{tabular}{r|lllllllllllllllllllllllllllllllllllllllllllllllllllllllllllllllllllllllllllllllllllllllllllllllllllllllllllllllllllllllllllllllllllllllllllllllllllllllllllllllllllllllllllllllllllllllllllllllllllllllllllllllllllllllllllllllllllllllllllllllllllllllllllllllllllllllllllllllllllllllllllllllllllllllllllllllllllllllllllllllllllllllllllllllllllllllllllllllllllllllllllllllllllllllllllllllllllllllllllllllllllllllllllllllllllllllllllllllllllllllllllllllllllllllllllllllllllllllllllllllllllllllllllllllllllllllllllllllllllllllllllllllllllllllllllllllllllllllllllllllllllllllllllllllllllllllllllllllllllllllllllllllllllllllllllllllllllllllllllllllllllllllllllllllllllllllllllllllllllllllllllllllllllllllllllllllllllllllllllllllllllllllllllllllllllllllllllllllllllllllllllllllllllllllllllllllll}\n",
       " label & pixel0 & pixel1 & pixel2 & pixel3 & pixel4 & pixel5 & pixel6 & pixel7 & pixel8 & ... & pixel774 & pixel775 & pixel776 & pixel777 & pixel778 & pixel779 & pixel780 & pixel781 & pixel782 & pixel783\\\\\n",
       "\\hline\n",
       "\t 1   & 0   & 0   & 0   & 0   & 0   & 0   & 0   & 0   & 0   & ... & 0   & 0   & 0   & 0   & 0   & 0   & 0   & 0   & 0   & 0  \\\\\n",
       "\t 0   & 0   & 0   & 0   & 0   & 0   & 0   & 0   & 0   & 0   & ... & 0   & 0   & 0   & 0   & 0   & 0   & 0   & 0   & 0   & 0  \\\\\n",
       "\t 1   & 0   & 0   & 0   & 0   & 0   & 0   & 0   & 0   & 0   & ... & 0   & 0   & 0   & 0   & 0   & 0   & 0   & 0   & 0   & 0  \\\\\n",
       "\t 4   & 0   & 0   & 0   & 0   & 0   & 0   & 0   & 0   & 0   & ... & 0   & 0   & 0   & 0   & 0   & 0   & 0   & 0   & 0   & 0  \\\\\n",
       "\t 0   & 0   & 0   & 0   & 0   & 0   & 0   & 0   & 0   & 0   & ... & 0   & 0   & 0   & 0   & 0   & 0   & 0   & 0   & 0   & 0  \\\\\n",
       "\t 0   & 0   & 0   & 0   & 0   & 0   & 0   & 0   & 0   & 0   & ... & 0   & 0   & 0   & 0   & 0   & 0   & 0   & 0   & 0   & 0  \\\\\n",
       "\\end{tabular}\n"
      ],
      "text/markdown": [
       "\n",
       "| label | pixel0 | pixel1 | pixel2 | pixel3 | pixel4 | pixel5 | pixel6 | pixel7 | pixel8 | ... | pixel774 | pixel775 | pixel776 | pixel777 | pixel778 | pixel779 | pixel780 | pixel781 | pixel782 | pixel783 |\n",
       "|---|---|---|---|---|---|---|---|---|---|---|---|---|---|---|---|---|---|---|---|---|\n",
       "| 1   | 0   | 0   | 0   | 0   | 0   | 0   | 0   | 0   | 0   | ... | 0   | 0   | 0   | 0   | 0   | 0   | 0   | 0   | 0   | 0   |\n",
       "| 0   | 0   | 0   | 0   | 0   | 0   | 0   | 0   | 0   | 0   | ... | 0   | 0   | 0   | 0   | 0   | 0   | 0   | 0   | 0   | 0   |\n",
       "| 1   | 0   | 0   | 0   | 0   | 0   | 0   | 0   | 0   | 0   | ... | 0   | 0   | 0   | 0   | 0   | 0   | 0   | 0   | 0   | 0   |\n",
       "| 4   | 0   | 0   | 0   | 0   | 0   | 0   | 0   | 0   | 0   | ... | 0   | 0   | 0   | 0   | 0   | 0   | 0   | 0   | 0   | 0   |\n",
       "| 0   | 0   | 0   | 0   | 0   | 0   | 0   | 0   | 0   | 0   | ... | 0   | 0   | 0   | 0   | 0   | 0   | 0   | 0   | 0   | 0   |\n",
       "| 0   | 0   | 0   | 0   | 0   | 0   | 0   | 0   | 0   | 0   | ... | 0   | 0   | 0   | 0   | 0   | 0   | 0   | 0   | 0   | 0   |\n",
       "\n"
      ],
      "text/plain": [
       "  label pixel0 pixel1 pixel2 pixel3 pixel4 pixel5 pixel6 pixel7 pixel8 ...\n",
       "1 1     0      0      0      0      0      0      0      0      0      ...\n",
       "2 0     0      0      0      0      0      0      0      0      0      ...\n",
       "3 1     0      0      0      0      0      0      0      0      0      ...\n",
       "4 4     0      0      0      0      0      0      0      0      0      ...\n",
       "5 0     0      0      0      0      0      0      0      0      0      ...\n",
       "6 0     0      0      0      0      0      0      0      0      0      ...\n",
       "  pixel774 pixel775 pixel776 pixel777 pixel778 pixel779 pixel780 pixel781\n",
       "1 0        0        0        0        0        0        0        0       \n",
       "2 0        0        0        0        0        0        0        0       \n",
       "3 0        0        0        0        0        0        0        0       \n",
       "4 0        0        0        0        0        0        0        0       \n",
       "5 0        0        0        0        0        0        0        0       \n",
       "6 0        0        0        0        0        0        0        0       \n",
       "  pixel782 pixel783\n",
       "1 0        0       \n",
       "2 0        0       \n",
       "3 0        0       \n",
       "4 0        0       \n",
       "5 0        0       \n",
       "6 0        0       "
      ]
     },
     "metadata": {},
     "output_type": "display_data"
    }
   ],
   "source": [
    "head(train)"
   ]
  },
  {
   "cell_type": "code",
   "execution_count": 17,
   "metadata": {},
   "outputs": [
    {
     "data": {
      "image/png": "[encoded data removed]",
      "text/plain": [
       "plot without title"
      ]
     },
     "metadata": {},
     "output_type": "display_data"
    }
   ],
   "source": [
    "show_digit(train[1000,])"
   ]
  },
  {
   "cell_type": "markdown",
   "metadata": {},
   "source": [
    "## Data Evaluation"
   ]
  },
  {
   "cell_type": "code",
   "execution_count": 18,
   "metadata": {},
   "outputs": [
    {
     "data": {
      "text/html": [
       "FALSE"
      ],
      "text/latex": [
       "FALSE"
      ],
      "text/markdown": [
       "FALSE"
      ],
      "text/plain": [
       "[1] FALSE"
      ]
     },
     "metadata": {},
     "output_type": "display_data"
    }
   ],
   "source": [
    "is.factor(train$label)"
   ]
  },
  {
   "cell_type": "code",
   "execution_count": 19,
   "metadata": {},
   "outputs": [
    {
     "data": {
      "text/html": [
       "TRUE"
      ],
      "text/latex": [
       "TRUE"
      ],
      "text/markdown": [
       "TRUE"
      ],
      "text/plain": [
       "[1] TRUE"
      ]
     },
     "metadata": {},
     "output_type": "display_data"
    }
   ],
   "source": [
    "train$label <- as.factor(train$label)\n",
    "is.factor(train$label)"
   ]
  },
  {
   "cell_type": "markdown",
   "metadata": {},
   "source": [
    "### First look\n",
    "\n",
    "Create new table 10x2:\n",
    "- 1 - **digit** contains unique digit in range [0;9]\n",
    "- 2 - **amount** the quantity of these digits"
   ]
  },
  {
   "cell_type": "code",
   "execution_count": 20,
   "metadata": {},
   "outputs": [],
   "source": [
    "tbl <- data.frame(with(train, table(train$label)))\n",
    "colnames(tbl) <- c('digit', 'amount')"
   ]
  },
  {
   "cell_type": "markdown",
   "metadata": {},
   "source": [
    "Take a look the data distribution in the train data. \n",
    "The amount of every single digit is pretty equal. It approaches to the 10% of each one. It will help us select the right metric to evaluate a model."
   ]
  },
  {
   "cell_type": "code",
   "execution_count": 21,
   "metadata": {},
   "outputs": [],
   "source": [
    "barplot <- ggplot(tbl, aes(x=digit, y=amount, fill=digit)) +\n",
    "  geom_bar(stat=\"identity\") + \n",
    "  geom_text(aes(label = scales::percent((amount)/sum(amount))), position = position_stack(vjust = 0.9), size = 6) + theme_settings\n",
    "options(repr.plot.width=16,repr.plot.height=6)"
   ]
  },
  {
   "cell_type": "code",
   "execution_count": 22,
   "metadata": {},
   "outputs": [
    {
     "data": {
      "image/png": "[encoded data removed]",
      "text/plain": [
       "plot without title"
      ]
     },
     "metadata": {},
     "output_type": "display_data"
    }
   ],
   "source": [
    "barplot\n",
    "rm(tbl)\n",
    "options(repr_option_defaults)"
   ]
  },
  {
   "cell_type": "markdown",
   "metadata": {},
   "source": [
    "### Nan-Values\n",
    "Check for nan-values. Nothing at all."
   ]
  },
  {
   "cell_type": "code",
   "execution_count": 23,
   "metadata": {},
   "outputs": [
    {
     "data": {
      "text/html": [
       "0"
      ],
      "text/latex": [
       "0"
      ],
      "text/markdown": [
       "0"
      ],
      "text/plain": [
       "[1] 0"
      ]
     },
     "metadata": {},
     "output_type": "display_data"
    },
    {
     "data": {
      "text/html": [
       "0"
      ],
      "text/latex": [
       "0"
      ],
      "text/markdown": [
       "0"
      ],
      "text/plain": [
       "[1] 0"
      ]
     },
     "metadata": {},
     "output_type": "display_data"
    }
   ],
   "source": [
    "sum(is.na(train))\n",
    "sum(is.na(test))"
   ]
  },
  {
   "cell_type": "markdown",
   "metadata": {},
   "source": [
    "### Pixel Distribution in the Center of Image\n",
    "\n",
    "Let's check the feature distribution in the center of image. For these purposes I took 4 pixels in the center and plot histograms of their intensity for each digit. The brightness of the pixels is varying from digit to digit, and it's pretty logcally: For instance, when you write `8` in majority of cases its junction point is in the center, or really close to. However for the `7` the situation is opposite, it almost never cross through the central pixels."
   ]
  },
  {
   "cell_type": "code",
   "execution_count": 34,
   "metadata": {},
   "outputs": [
    {
     "data": {
      "image/png": "[encoded data removed]",
      "text/plain": [
       "Plot with title \"Histogram for digit 4\""
      ]
     },
     "metadata": {},
     "output_type": "display_data"
    },
    {
     "data": {
      "image/png": "[encoded data removed]",
      "text/plain": [
       "Plot with title \"Histogram for digit 8\""
      ]
     },
     "metadata": {},
     "output_type": "display_data"
    },
    {
     "data": {
      "image/png": "[encoded data removed]",
      "text/plain": [
       "Plot with title \"Histogram for digit 9\""
      ]
     },
     "metadata": {},
     "output_type": "display_data"
    }
   ],
   "source": [
    "central_block <- c(\"pixel376\", \"pixel377\", \"pixel404\", \"pixel405\")\n",
    "par(mfrow=c(2, 2))\n",
    "for(i in 1:9) {\n",
    "hist(c(as.matrix(train[train$label==i, central_block])), \n",
    "col = c(\"#F8766D\",\"#D89000\", \"#A3A500\", \"#39B600\", \"#00BF7D\", \"#00BFC4\", \"#00B0F6\", \"#9590FF\", \"#E76BF3\", \"#FF62BC\", \"#FF6299\", \"#FF3661\", \"#FF3030\"),\n",
    "main=sprintf(\"Histogram for digit %d\", i),\n",
    "xlab=\"Pixel value\")\n",
    "}"
   ]
  },
  {
   "cell_type": "code",
   "execution_count": 36,
   "metadata": {},
   "outputs": [],
   "source": [
    "set.seed(42)\n",
    "train_split_index <- createDataPartition(train$label, p=0.8, list=FALSE)"
   ]
  },
  {
   "cell_type": "code",
   "execution_count": 38,
   "metadata": {},
   "outputs": [],
   "source": [
    "train_split <- train[train_split_index,]\n",
    "test_split <- train[-train_split_index,]"
   ]
  },
  {
   "cell_type": "code",
   "execution_count": null,
   "metadata": {},
   "outputs": [],
   "source": []
  },
  {
   "cell_type": "markdown",
   "metadata": {},
   "source": [
    "### Data Normalization\n",
    "\n",
    "In purpose to reduce the [illumination effect](https://www.sciencedirect.com/science/article/pii/S0924271617303878) and bolster CNN performance (it's better working with [0;1] rather than [0;255]) perform a grayscale normalization."
   ]
  },
  {
   "cell_type": "markdown",
   "metadata": {},
   "source": [
    "Shorthand of the grayscale normalization\n",
    "\n",
    "$$\n",
    "I:\\{\\mathbb{X} \\subseteq \\mathbb{R}^n\\} \\rightarrow \\{\\text{Min}, .., \\text{Max}\\} - \\text{the n-dimensional image with intensity values in the range (Min,Max) required to be grayscaled.}\n",
    "$$\n",
    "\n",
    "$$\n",
    "I_N:\\{\\mathbb{X} \\subseteq \\mathbb{R}^n\\} \\rightarrow \\{\\text{newMin}, .., \\text{newMax}\\} - \\text{new image with new intensity values in the range (newMin,newMax).}\n",
    "$$\n",
    "\n",
    "The linear (linear relationship between old pixels and new ones) normalization of a grayscale digital image is performed according to the formula\n",
    "\n",
    "$$\n",
    "I_N = (I - \\text{Min}) \\times \\frac{\\text{newMax} - \\text{newMin}}{\\text{Max} - \\text{Min}} + \\text{newMin}\n",
    "$$\n",
    "\n",
    "In our case: $I_N = (\\text{each_pixel} - 0) \\times \\frac{1 - 0}{255 - 0} + 0 = \\frac{(\\text{each_pixel})}{255}$"
   ]
  },
  {
   "cell_type": "code",
   "execution_count": 13,
   "metadata": {},
   "outputs": [],
   "source": [
    "train[-1] <- train[-1]/255.0\n",
    "test <- test/255.0"
   ]
  }
 ],
 "metadata": {
  "kernelspec": {
   "display_name": "R",
   "language": "R",
   "name": "ir"
  },
  "language_info": {
   "codemirror_mode": "r",
   "file_extension": ".r",
   "mimetype": "text/x-r-source",
   "name": "R",
   "pygments_lexer": "r",
   "version": "3.6.1"
  }
 },
 "nbformat": 4,
 "nbformat_minor": 4
}
